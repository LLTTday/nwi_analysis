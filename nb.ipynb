{
 "cells": [
  {
   "cell_type": "code",
   "execution_count": 1,
   "id": "initial_id",
   "metadata": {
    "collapsed": true,
    "ExecuteTime": {
     "end_time": "2024-02-13T07:14:57.935766Z",
     "start_time": "2024-02-13T07:14:57.662686Z"
    }
   },
   "outputs": [],
   "source": [
    "import pandas as pd\n",
    "import sqlite3"
   ]
  },
  {
   "cell_type": "code",
   "outputs": [],
   "source": [
    "# Create a SQL connection to our SQLite database\n",
    "conn = sqlite3.connect('data/nwi_full.db')"
   ],
   "metadata": {
    "collapsed": false,
    "ExecuteTime": {
     "end_time": "2024-02-13T07:15:34.712976Z",
     "start_time": "2024-02-13T07:15:34.706872Z"
    }
   },
   "id": "6e0a38d524a7e79e",
   "execution_count": 2
  },
  {
   "cell_type": "code",
   "outputs": [],
   "source": [
    "# Load the data into a DataFrame\n",
    "df = pd.read_sql_query(\"SELECT * from nwi_full\", conn)"
   ],
   "metadata": {
    "collapsed": false,
    "ExecuteTime": {
     "end_time": "2024-02-13T07:15:49.339569Z",
     "start_time": "2024-02-13T07:15:44.114188Z"
    }
   },
   "id": "32de1d8d01f26e85",
   "execution_count": 3
  },
  {
   "cell_type": "code",
   "outputs": [
    {
     "data": {
      "text/plain": "   level_0  index  unnamed: 0  objectid       geoid10       geoid20  \\\n0        0      0           0         1  481130078254  481130078254   \n1        1      1           1         2  481130078252  481130078252   \n2        2      2           2         3  481130078253  481130078253   \n3        3      3           3         4  481130078241  481130078241   \n4        4      4           4         5  481130078242  481130078242   \n\n   state_fips  county_fips  tractce  blkgrpce  ...  b01001_005z b01001_006z  \\\n0          48          113     7825         4  ...        229.0       262.0   \n1          48          113     7825         2  ...         78.0        26.0   \n2          48          113     7825         3  ...        166.0       186.0   \n3          48          113     7824         1  ...         72.0       181.0   \n4          48          113     7824         2  ...         43.0       155.0   \n\n   b01001_007z b01001_008z  b01001_009z  b01001_010z  b01001_011z  \\\n0         24.0       112.0         25.0         66.0          0.0   \n1         58.0        84.0        244.0        102.0         33.0   \n2        143.0        33.0          0.0          0.0          0.0   \n3        149.0       175.0        115.0         23.0         13.0   \n4        107.0       135.0        168.0         37.0         33.0   \n\n   b15003_002z  b15003_003z  b15003_004z  \n0        210.0        110.0         58.0  \n1         17.0         55.0        149.0  \n2         49.0        228.0        161.0  \n3          0.0         24.0         79.0  \n4          6.0         21.0         80.0  \n\n[5 rows x 98 columns]",
      "text/html": "<div>\n<style scoped>\n    .dataframe tbody tr th:only-of-type {\n        vertical-align: middle;\n    }\n\n    .dataframe tbody tr th {\n        vertical-align: top;\n    }\n\n    .dataframe thead th {\n        text-align: right;\n    }\n</style>\n<table border=\"1\" class=\"dataframe\">\n  <thead>\n    <tr style=\"text-align: right;\">\n      <th></th>\n      <th>level_0</th>\n      <th>index</th>\n      <th>unnamed: 0</th>\n      <th>objectid</th>\n      <th>geoid10</th>\n      <th>geoid20</th>\n      <th>state_fips</th>\n      <th>county_fips</th>\n      <th>tractce</th>\n      <th>blkgrpce</th>\n      <th>...</th>\n      <th>b01001_005z</th>\n      <th>b01001_006z</th>\n      <th>b01001_007z</th>\n      <th>b01001_008z</th>\n      <th>b01001_009z</th>\n      <th>b01001_010z</th>\n      <th>b01001_011z</th>\n      <th>b15003_002z</th>\n      <th>b15003_003z</th>\n      <th>b15003_004z</th>\n    </tr>\n  </thead>\n  <tbody>\n    <tr>\n      <th>0</th>\n      <td>0</td>\n      <td>0</td>\n      <td>0</td>\n      <td>1</td>\n      <td>481130078254</td>\n      <td>481130078254</td>\n      <td>48</td>\n      <td>113</td>\n      <td>7825</td>\n      <td>4</td>\n      <td>...</td>\n      <td>229.0</td>\n      <td>262.0</td>\n      <td>24.0</td>\n      <td>112.0</td>\n      <td>25.0</td>\n      <td>66.0</td>\n      <td>0.0</td>\n      <td>210.0</td>\n      <td>110.0</td>\n      <td>58.0</td>\n    </tr>\n    <tr>\n      <th>1</th>\n      <td>1</td>\n      <td>1</td>\n      <td>1</td>\n      <td>2</td>\n      <td>481130078252</td>\n      <td>481130078252</td>\n      <td>48</td>\n      <td>113</td>\n      <td>7825</td>\n      <td>2</td>\n      <td>...</td>\n      <td>78.0</td>\n      <td>26.0</td>\n      <td>58.0</td>\n      <td>84.0</td>\n      <td>244.0</td>\n      <td>102.0</td>\n      <td>33.0</td>\n      <td>17.0</td>\n      <td>55.0</td>\n      <td>149.0</td>\n    </tr>\n    <tr>\n      <th>2</th>\n      <td>2</td>\n      <td>2</td>\n      <td>2</td>\n      <td>3</td>\n      <td>481130078253</td>\n      <td>481130078253</td>\n      <td>48</td>\n      <td>113</td>\n      <td>7825</td>\n      <td>3</td>\n      <td>...</td>\n      <td>166.0</td>\n      <td>186.0</td>\n      <td>143.0</td>\n      <td>33.0</td>\n      <td>0.0</td>\n      <td>0.0</td>\n      <td>0.0</td>\n      <td>49.0</td>\n      <td>228.0</td>\n      <td>161.0</td>\n    </tr>\n    <tr>\n      <th>3</th>\n      <td>3</td>\n      <td>3</td>\n      <td>3</td>\n      <td>4</td>\n      <td>481130078241</td>\n      <td>481130078241</td>\n      <td>48</td>\n      <td>113</td>\n      <td>7824</td>\n      <td>1</td>\n      <td>...</td>\n      <td>72.0</td>\n      <td>181.0</td>\n      <td>149.0</td>\n      <td>175.0</td>\n      <td>115.0</td>\n      <td>23.0</td>\n      <td>13.0</td>\n      <td>0.0</td>\n      <td>24.0</td>\n      <td>79.0</td>\n    </tr>\n    <tr>\n      <th>4</th>\n      <td>4</td>\n      <td>4</td>\n      <td>4</td>\n      <td>5</td>\n      <td>481130078242</td>\n      <td>481130078242</td>\n      <td>48</td>\n      <td>113</td>\n      <td>7824</td>\n      <td>2</td>\n      <td>...</td>\n      <td>43.0</td>\n      <td>155.0</td>\n      <td>107.0</td>\n      <td>135.0</td>\n      <td>168.0</td>\n      <td>37.0</td>\n      <td>33.0</td>\n      <td>6.0</td>\n      <td>21.0</td>\n      <td>80.0</td>\n    </tr>\n  </tbody>\n</table>\n<p>5 rows × 98 columns</p>\n</div>"
     },
     "execution_count": 4,
     "metadata": {},
     "output_type": "execute_result"
    }
   ],
   "source": [
    "# Verify that result of SQL query is stored in the dataframe\n",
    "df.head()"
   ],
   "metadata": {
    "collapsed": false,
    "ExecuteTime": {
     "end_time": "2024-02-13T07:16:08.498057Z",
     "start_time": "2024-02-13T07:16:08.451834Z"
    }
   },
   "id": "857a6cf30e7619e0",
   "execution_count": 4
  },
  {
   "cell_type": "code",
   "outputs": [
    {
     "data": {
      "text/plain": "217216"
     },
     "execution_count": 6,
     "metadata": {},
     "output_type": "execute_result"
    }
   ],
   "source": [
    "df.drop(columns=['level_0','index','unnamed: 0'], inplace=True)\n",
    "df.to_sql('nwi', conn)"
   ],
   "metadata": {
    "collapsed": false,
    "ExecuteTime": {
     "end_time": "2024-02-13T07:20:34.706542Z",
     "start_time": "2024-02-13T07:20:32.445543Z"
    }
   },
   "id": "f71c5d41d7058e39",
   "execution_count": 6
  },
  {
   "cell_type": "code",
   "outputs": [],
   "source": [],
   "metadata": {
    "collapsed": false
   },
   "id": "61f93dc8af943697"
  }
 ],
 "metadata": {
  "kernelspec": {
   "display_name": "Python 3",
   "language": "python",
   "name": "python3"
  },
  "language_info": {
   "codemirror_mode": {
    "name": "ipython",
    "version": 2
   },
   "file_extension": ".py",
   "mimetype": "text/x-python",
   "name": "python",
   "nbconvert_exporter": "python",
   "pygments_lexer": "ipython2",
   "version": "2.7.6"
  }
 },
 "nbformat": 4,
 "nbformat_minor": 5
}
